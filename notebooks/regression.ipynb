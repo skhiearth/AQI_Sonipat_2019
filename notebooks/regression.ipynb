{
 "cells": [
  {
   "cell_type": "code",
   "execution_count": 1,
   "metadata": {},
   "outputs": [],
   "source": [
    "import pandas as pd\n",
    "import numpy as np\n",
    "import matplotlib.pyplot as plt\n",
    "import seaborn as sns\n",
    "%matplotlib inline"
   ]
  },
  {
   "cell_type": "code",
   "execution_count": 2,
   "metadata": {},
   "outputs": [
    {
     "name": "stdout",
     "output_type": "stream",
     "text": [
      "The dataset has 365 rows and 15 columns.\n"
     ]
    },
    {
     "data": {
      "text/html": [
       "<div>\n",
       "<style scoped>\n",
       "    .dataframe tbody tr th:only-of-type {\n",
       "        vertical-align: middle;\n",
       "    }\n",
       "\n",
       "    .dataframe tbody tr th {\n",
       "        vertical-align: top;\n",
       "    }\n",
       "\n",
       "    .dataframe thead th {\n",
       "        text-align: right;\n",
       "    }\n",
       "</style>\n",
       "<table border=\"1\" class=\"dataframe\">\n",
       "  <thead>\n",
       "    <tr style=\"text-align: right;\">\n",
       "      <th></th>\n",
       "      <th>PM 2.5</th>\n",
       "      <th>PM 10</th>\n",
       "      <th>NO2</th>\n",
       "      <th>NH3</th>\n",
       "      <th>SO2</th>\n",
       "      <th>CO</th>\n",
       "      <th>O3</th>\n",
       "      <th>Min_Temp</th>\n",
       "      <th>Max_Temp</th>\n",
       "      <th>Precip_Intensity</th>\n",
       "      <th>Pressure</th>\n",
       "      <th>Humidity</th>\n",
       "      <th>Wind_Speed</th>\n",
       "      <th>Wind_Bearing</th>\n",
       "      <th>Cloud_Cover</th>\n",
       "    </tr>\n",
       "  </thead>\n",
       "  <tbody>\n",
       "    <tr>\n",
       "      <td>0</td>\n",
       "      <td>332.0</td>\n",
       "      <td>214.0</td>\n",
       "      <td>40.0</td>\n",
       "      <td>17.0</td>\n",
       "      <td>21.0</td>\n",
       "      <td>57.0</td>\n",
       "      <td>2.0</td>\n",
       "      <td>6.38</td>\n",
       "      <td>21.43</td>\n",
       "      <td>0.0</td>\n",
       "      <td>1020.3</td>\n",
       "      <td>0.56</td>\n",
       "      <td>3.64</td>\n",
       "      <td>316</td>\n",
       "      <td>0.00</td>\n",
       "    </tr>\n",
       "    <tr>\n",
       "      <td>1</td>\n",
       "      <td>413.0</td>\n",
       "      <td>365.0</td>\n",
       "      <td>63.0</td>\n",
       "      <td>18.0</td>\n",
       "      <td>34.0</td>\n",
       "      <td>94.0</td>\n",
       "      <td>17.0</td>\n",
       "      <td>9.07</td>\n",
       "      <td>23.17</td>\n",
       "      <td>0.0</td>\n",
       "      <td>1020.5</td>\n",
       "      <td>0.60</td>\n",
       "      <td>3.74</td>\n",
       "      <td>68</td>\n",
       "      <td>0.05</td>\n",
       "    </tr>\n",
       "    <tr>\n",
       "      <td>2</td>\n",
       "      <td>427.0</td>\n",
       "      <td>379.0</td>\n",
       "      <td>71.0</td>\n",
       "      <td>20.0</td>\n",
       "      <td>40.0</td>\n",
       "      <td>94.0</td>\n",
       "      <td>NaN</td>\n",
       "      <td>8.59</td>\n",
       "      <td>22.22</td>\n",
       "      <td>0.0</td>\n",
       "      <td>1021.1</td>\n",
       "      <td>0.65</td>\n",
       "      <td>6.18</td>\n",
       "      <td>299</td>\n",
       "      <td>0.00</td>\n",
       "    </tr>\n",
       "    <tr>\n",
       "      <td>3</td>\n",
       "      <td>370.0</td>\n",
       "      <td>254.0</td>\n",
       "      <td>40.0</td>\n",
       "      <td>19.0</td>\n",
       "      <td>19.0</td>\n",
       "      <td>62.0</td>\n",
       "      <td>NaN</td>\n",
       "      <td>7.79</td>\n",
       "      <td>20.61</td>\n",
       "      <td>0.0</td>\n",
       "      <td>1020.3</td>\n",
       "      <td>0.63</td>\n",
       "      <td>4.10</td>\n",
       "      <td>290</td>\n",
       "      <td>0.42</td>\n",
       "    </tr>\n",
       "    <tr>\n",
       "      <td>4</td>\n",
       "      <td>NaN</td>\n",
       "      <td>NaN</td>\n",
       "      <td>45.0</td>\n",
       "      <td>20.0</td>\n",
       "      <td>NaN</td>\n",
       "      <td>102.0</td>\n",
       "      <td>NaN</td>\n",
       "      <td>8.17</td>\n",
       "      <td>20.56</td>\n",
       "      <td>0.0</td>\n",
       "      <td>1019.3</td>\n",
       "      <td>0.66</td>\n",
       "      <td>7.26</td>\n",
       "      <td>110</td>\n",
       "      <td>0.08</td>\n",
       "    </tr>\n",
       "  </tbody>\n",
       "</table>\n",
       "</div>"
      ],
      "text/plain": [
       "   PM 2.5  PM 10   NO2   NH3   SO2     CO    O3  Min_Temp  Max_Temp  \\\n",
       "0   332.0  214.0  40.0  17.0  21.0   57.0   2.0      6.38     21.43   \n",
       "1   413.0  365.0  63.0  18.0  34.0   94.0  17.0      9.07     23.17   \n",
       "2   427.0  379.0  71.0  20.0  40.0   94.0   NaN      8.59     22.22   \n",
       "3   370.0  254.0  40.0  19.0  19.0   62.0   NaN      7.79     20.61   \n",
       "4     NaN    NaN  45.0  20.0   NaN  102.0   NaN      8.17     20.56   \n",
       "\n",
       "   Precip_Intensity  Pressure  Humidity  Wind_Speed  Wind_Bearing  Cloud_Cover  \n",
       "0               0.0    1020.3      0.56        3.64           316         0.00  \n",
       "1               0.0    1020.5      0.60        3.74            68         0.05  \n",
       "2               0.0    1021.1      0.65        6.18           299         0.00  \n",
       "3               0.0    1020.3      0.63        4.10           290         0.42  \n",
       "4               0.0    1019.3      0.66        7.26           110         0.08  "
      ]
     },
     "execution_count": 2,
     "metadata": {},
     "output_type": "execute_result"
    }
   ],
   "source": [
    "df = pd.read_csv(\"../Sonipat_AQI_Weather.csv\")\n",
    "\n",
    "# Drop redundant columns\n",
    "df.drop(df.columns[[0, 1, 2]], axis = 1, inplace = True) \n",
    "\n",
    "# Inspecting shape of the data\n",
    "print(\"The dataset has {} rows and {} columns.\".format(df.shape[0], df.shape[1]))\n",
    "\n",
    "# Inspecting first five rows\n",
    "df.head()"
   ]
  },
  {
   "cell_type": "code",
   "execution_count": 3,
   "metadata": {},
   "outputs": [
    {
     "data": {
      "image/png": "[encoded data removed]",
      "text/plain": [
       "<Figure size 720x720 with 1 Axes>"
      ]
     },
     "metadata": {
      "needs_background": "light"
     },
     "output_type": "display_data"
    }
   ],
   "source": [
    "# Drawing a correlation plot\n",
    "plt.figure(figsize=(10,10))\n",
    "\n",
    "matrix = np.triu(df.corr())\n",
    "\n",
    "correlation_plot = sns.heatmap(df.corr(), annot=True, vmin=-1, vmax=1, \n",
    "            center=0, cmap= 'coolwarm', square=True, fmt='.1g',\n",
    "            mask=matrix, linecolor='black', cbar=False)"
   ]
  },
  {
   "cell_type": "code",
   "execution_count": 4,
   "metadata": {},
   "outputs": [
    {
     "name": "stdout",
     "output_type": "stream",
     "text": [
      "(298, 10)\n"
     ]
    }
   ],
   "source": [
    "# Target Variable - `PM 2.5 has a very high correlation with PM10 and NO2, so we drop the columns.\n",
    "_dfpm25 = df.drop(['PM 10', 'NO2'], axis = 1) \n",
    "\n",
    "# Keeping rows where we have a valid value of `PM 2.5` and other features\n",
    "_dfpm25 = _dfpm25[_dfpm25['PM 2.5'].notna()]\n",
    "_dfpm25.dropna(subset = _dfpm25.columns[1:], inplace=True)\n",
    "\n",
    "# Drop columns with low standard deviation.\n",
    "_dfpm25 = _dfpm25.drop(_dfpm25.std()[_dfpm25.std() < 1.0].index.values, axis=1)\n",
    "\n",
    "# Inspecting dataframe shape\n",
    "print(_dfpm25.shape)"
   ]
  },
  {
   "cell_type": "markdown",
   "metadata": {},
   "source": [
    "### Multiple Linear Regression"
   ]
  },
  {
   "cell_type": "code",
   "execution_count": 5,
   "metadata": {},
   "outputs": [
    {
     "name": "stdout",
     "output_type": "stream",
     "text": [
      "R2 square score for Multiple Linear Regression is: 0.3912\n"
     ]
    }
   ],
   "source": [
    "# Selecting target variable and features\n",
    "X = _dfpm25.loc[:, _dfpm25.columns != 'PM 2.5'].values\n",
    "y = _dfpm25.iloc[:, 0].values\n",
    "\n",
    "# Splitting the dataset into the Training set and Test set\n",
    "from sklearn.model_selection import train_test_split\n",
    "X_train, X_test, y_train, y_test = train_test_split(X, y, test_size = 0.2, random_state = 0)\n",
    "\n",
    "# Fitting Multiple Linear Regression to the Training set\n",
    "from sklearn.linear_model import LinearRegression\n",
    "from sklearn import metrics\n",
    "\n",
    "regressor = LinearRegression()\n",
    "regressor.fit(X_train, y_train)\n",
    "\n",
    "# Predicting the Test set results\n",
    "y_pred = regressor.predict(X_test)\n",
    "print(\"R2 square score for Multiple Linear Regression is: {0:.4f}\".format(np.sqrt(metrics.r2_score(y_test, y_pred))))"
   ]
  },
  {
   "cell_type": "markdown",
   "metadata": {},
   "source": [
    "### Support Vector Regression"
   ]
  },
  {
   "cell_type": "code",
   "execution_count": 6,
   "metadata": {
    "scrolled": true
   },
   "outputs": [
    {
     "name": "stdout",
     "output_type": "stream",
     "text": [
      "R2 square score for Support Vector Regression is: 0.6765\n"
     ]
    }
   ],
   "source": [
    "# Selecting target variable and features\n",
    "X = _dfpm25.loc[:, _dfpm25.columns != 'PM 2.5'].values\n",
    "y = _dfpm25.iloc[:, 0].values\n",
    "\n",
    "# Feature Scaling\n",
    "from sklearn.preprocessing import StandardScaler\n",
    "sc_X = StandardScaler()\n",
    "sc_y = StandardScaler()\n",
    "X = sc_X.fit_transform(X)\n",
    "y = sc_y.fit_transform(y.reshape(-1,1))\n",
    "\n",
    "# Splitting the dataset into the Training set and Test set\n",
    "from sklearn.model_selection import train_test_split\n",
    "X_train, X_test, y_train, y_test = train_test_split(X, y, test_size = 0.2, random_state = 0)\n",
    "\n",
    "# Fitting SVR to the training set\n",
    "from sklearn.svm import SVR\n",
    "regressor = SVR(kernel = 'rbf', gamma='auto')\n",
    "regressor.fit(X_train, np.ravel(y_train))\n",
    "\n",
    "# Predicting the Test set results\n",
    "y_pred = regressor.predict(X_test)\n",
    "print(\"R2 square score for Support Vector Regression is: {0:.4f}\".format(np.sqrt(metrics.r2_score(y_test, y_pred))))"
   ]
  },
  {
   "cell_type": "markdown",
   "metadata": {},
   "source": [
    "### Random Forest Regression"
   ]
  },
  {
   "cell_type": "code",
   "execution_count": 27,
   "metadata": {},
   "outputs": [
    {
     "name": "stdout",
     "output_type": "stream",
     "text": [
      "Fitting 5 folds for each of 75 candidates, totalling 375 fits\n"
     ]
    },
    {
     "name": "stderr",
     "output_type": "stream",
     "text": [
      "[Parallel(n_jobs=-1)]: Using backend LokyBackend with 4 concurrent workers.\n",
      "[Parallel(n_jobs=-1)]: Done  42 tasks      | elapsed:    5.8s\n",
      "[Parallel(n_jobs=-1)]: Done 192 tasks      | elapsed:   28.5s\n",
      "[Parallel(n_jobs=-1)]: Done 375 out of 375 | elapsed:  1.2min finished\n",
      "/opt/anaconda3/lib/python3.7/site-packages/sklearn/model_selection/_search.py:814: DeprecationWarning: The default of the `iid` parameter will change from True to False in version 0.22 and will be removed in 0.24. This will change numeric results when test-set sizes are unequal.\n",
      "  DeprecationWarning)\n"
     ]
    },
    {
     "name": "stdout",
     "output_type": "stream",
     "text": [
      "{'max_features': 'sqrt', 'n_estimators': 410}\n",
      "R2 square score for Support Vector Regression is: 0.6696\n"
     ]
    }
   ],
   "source": [
    "# Selecting target variable and features\n",
    "X = _dfpm25.loc[:, _dfpm25.columns != 'PM 2.5'].values\n",
    "y = _dfpm25.iloc[:, 0].values\n",
    "\n",
    "# Splitting the dataset into the Training set and Test set\n",
    "from sklearn.model_selection import train_test_split\n",
    "X_train, X_test, y_train, y_test = train_test_split(X, y, test_size = 0.2, random_state = 0)\n",
    "\n",
    "# Grid Search CV\n",
    "from sklearn.model_selection import GridSearchCV\n",
    "from sklearn.ensemble import RandomForestRegressor\n",
    "\n",
    "regressor = RandomForestRegressor(n_estimators = 100, random_state = 0)\n",
    "\n",
    "n_estimators = np.arange(10, 500, 20)\n",
    "max_features = ['auto', 'sqrt', 'log2']\n",
    "\n",
    "grid = dict(n_estimators = n_estimators,\n",
    "            max_features = max_features)\n",
    "\n",
    "searcher = GridSearchCV(regressor, \n",
    "                        param_grid = grid,\n",
    "                        cv = 5, n_jobs=-1, verbose=1)\n",
    "\n",
    "# Fitting Random Forest Regression to the training set\n",
    "searcher.fit(X_train, np.ravel(y_train))\n",
    "\n",
    "# Predicting the Test set results\n",
    "y_pred = searcher.predict(X_test)\n",
    "print(searcher.best_params_)\n",
    "print(\"R2 square score for Support Vector Regression is: {0:.4f}\".format(np.sqrt(metrics.r2_score(y_test, y_pred))))"
   ]
  }
 ],
 "metadata": {
  "kernelspec": {
   "display_name": "Python 3.7.4 64-bit ('base': conda)",
   "language": "python",
   "name": "python37464bitbaseconda3f0d6be5914d434a9d7014ecd996a3a3"
  },
  "language_info": {
   "codemirror_mode": {
    "name": "ipython",
    "version": 3
   },
   "file_extension": ".py",
   "mimetype": "text/x-python",
   "name": "python",
   "nbconvert_exporter": "python",
   "pygments_lexer": "ipython3",
   "version": "3.7.4"
  }
 },
 "nbformat": 4,
 "nbformat_minor": 2
}
